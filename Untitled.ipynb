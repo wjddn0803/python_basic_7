{
 "cells": [
  {
   "cell_type": "code",
   "execution_count": 5,
   "id": "dc935fa8-55be-47cc-a0d4-e6f53978041f",
   "metadata": {},
   "outputs": [
    {
     "name": "stdout",
     "output_type": "stream",
     "text": [
      "   이름  나이  성별\n",
      "0  철수  25  남자\n",
      "1  영희  30  여자\n",
      "2  민수  22  남자\n",
      "3  지영  28  여자\n"
     ]
    }
   ],
   "source": [
    "#9\n",
    "import pandas as pd\n",
    "data = {'이름': ['철수', '영희', '민수', '지영'], '나이': [25, 30, 22, 28], '성별': ['남자', '여자', '남자', '여자'] }\n",
    "df = pd.DataFrame(data)\n",
    "print(df)"
   ]
  },
  {
   "cell_type": "code",
   "execution_count": 22,
   "id": "39555b11-08ce-40ea-a531-43cb7921c69c",
   "metadata": {},
   "outputs": [
    {
     "name": "stdout",
     "output_type": "stream",
     "text": [
      "  col1  col2\n",
      "0    a     1\n",
      "1    b     2\n",
      "2    c     3\n"
     ]
    }
   ],
   "source": [
    "#10\n",
    "data = {'col1':['a','b','c'], 'col2':[1,2,3]}\n",
    "df = pd.DataFrame(data)\n",
    "df.loc[:2,'col1':'col2']\n",
    "print(df)\n",
    "        "
   ]
  },
  {
   "cell_type": "code",
   "execution_count": 77,
   "id": "47caabd5-0f23-4c23-8ad6-68e492149c8d",
   "metadata": {},
   "outputs": [
    {
     "name": "stdout",
     "output_type": "stream",
     "text": [
      "  col1  col2 col3  col4\n",
      "0    a   1.0    a  10.0\n",
      "1    b   2.0    b  20.0\n",
      "2    c   3.0  NaN   NaN\n",
      "3  NaN   NaN    f  30.0\n"
     ]
    }
   ],
   "source": [
    "#12\n",
    "import pandas as pd\n",
    "data1 = {'col1': ['a','b','c'], 'col2':[1,2,3]}\n",
    "df1 = pd.DataFrame(data1)\n",
    "\n",
    "data2 = {'col3': ['a','b','f'], 'col4':[10,20,30]}\n",
    "df2 = pd.DataFrame(data2)\n",
    "\n",
    "df3 = pd.merge(df1, df2, left_on='col1', right_on='col3', how = \"outer\")\n",
    "print(df3)\n",
    "\n",
    "\n"
   ]
  },
  {
   "cell_type": "code",
   "execution_count": null,
   "id": "1a553dce-efa8-4b62-ac9f-1b032cc9a5dc",
   "metadata": {},
   "outputs": [],
   "source": []
  },
  {
   "cell_type": "code",
   "execution_count": 27,
   "id": "9f38ff04-904d-44ae-ac6b-7df3255a647f",
   "metadata": {},
   "outputs": [
    {
     "name": "stdout",
     "output_type": "stream",
     "text": [
      "  name  score\n",
      "1   영희     88\n",
      "2   민수     92\n"
     ]
    }
   ],
   "source": [
    "#13\n",
    "import pandas as pd\n",
    "data = {'name': ['철수','영희','민수','지영'], 'score':[75,88,92,68]}\n",
    "df = pd.DataFrame(data)\n",
    "df1 = df[df['score'] >= 80]\n",
    "print(df1)\n"
   ]
  },
  {
   "cell_type": "code",
   "execution_count": 30,
   "id": "0e1f1623-da65-4b3f-8437-5b8128743445",
   "metadata": {},
   "outputs": [
    {
     "name": "stdout",
     "output_type": "stream",
     "text": [
      "    name  score\n",
      "0  False  False\n",
      "1  False  False\n",
      "2   True   True\n",
      "3  False  False\n"
     ]
    }
   ],
   "source": [
    "#14\n",
    "import pandas as pd\n",
    "data = {'name': ['철수', '영희', None, '지영'], 'score': [75, 88, None, 68]}\n",
    "df = pd.DataFrame(data)\n",
    "result = df.isna()\n",
    "print(result)"
   ]
  },
  {
   "cell_type": "code",
   "execution_count": null,
   "id": "c2346f83-e2f8-4873-9e3c-10fcd13d7f0c",
   "metadata": {},
   "outputs": [],
   "source": [
    "import pandas as pd\n",
    "data = {'name': ['철수', '영희','민수'], 'score': [75, 88, 92]}\n",
    "df = pd.DataFrame(data)\n"
   ]
  },
  {
   "cell_type": "code",
   "execution_count": 37,
   "id": "b5d5bb84-c3bb-4a9a-8862-efe74dab25e0",
   "metadata": {},
   "outputs": [
    {
     "name": "stdout",
     "output_type": "stream",
     "text": [
      "0    5\n",
      "1    7\n",
      "2    9\n",
      "dtype: int64\n"
     ]
    }
   ],
   "source": [
    "#16\n",
    "import pandas as pd\n",
    "data = {'col1':[1,2,3,], 'col2':[4,5,6]}\n",
    "df = pd.DataFrame(data)\n",
    "result = df.apply(lambda row: row['col1'] + row['col2'], axis=\"columns\")\n",
    "print(result)\n",
    "#서로 더한값"
   ]
  },
  {
   "cell_type": "code",
   "execution_count": 39,
   "id": "3d010288-9c38-4434-8257-63b71f437830",
   "metadata": {},
   "outputs": [
    {
     "name": "stdout",
     "output_type": "stream",
     "text": [
      "  name  score\n",
      "0   철수     75\n",
      "1   영희     88\n",
      "2   민수     92\n",
      "3   지영     68\n",
      "4   다현     95\n"
     ]
    }
   ],
   "source": [
    "#17\n",
    "import pandas as pd\n",
    "data1 = {'name': ['철수', '영희','민수'], 'score': [75, 88, 92]}\n",
    "df1 = pd.DataFrame(data1)\n",
    "data2 = {'name': ['지영', '다현'], 'score': [68, 95]}\n",
    "df2 = pd.DataFrame(data2)\n",
    "df3 = pd.concat([df1, df2], ignore_index=True)\n",
    "print(df3)"
   ]
  },
  {
   "cell_type": "code",
   "execution_count": 54,
   "id": "cf683bb0-fca2-4615-934c-c9ceae2be048",
   "metadata": {},
   "outputs": [
    {
     "name": "stdout",
     "output_type": "stream",
     "text": [
      "  name  score_x  score_y\n",
      "0   철수       75       80\n",
      "1   영희       88       90\n"
     ]
    }
   ],
   "source": [
    "#18\n",
    "import pandas as pd\n",
    "data1 = {'name': ['철수', '영희','민수'], 'score': [75, 88, 92]}\n",
    "df1 = pd.DataFrame(data1)\n",
    "data2 = {'name': ['영희', '철수','지영', '다현'], 'score': [90, 80, 95, 85]}\n",
    "df2 = pd.DataFrame(data2)\n",
    "df3 = pd.merge(df1, df2, on='name')\n",
    "print(df3)"
   ]
  },
  {
   "cell_type": "code",
   "execution_count": 44,
   "id": "6d9e809f-892b-4532-a697-350a6955c699",
   "metadata": {},
   "outputs": [
    {
     "ename": "SyntaxError",
     "evalue": "invalid character '‘' (U+2018) (1780775852.py, line 2)",
     "output_type": "error",
     "traceback": [
      "\u001b[1;36m  Cell \u001b[1;32mIn[44], line 2\u001b[1;36m\u001b[0m\n\u001b[1;33m    서 특정 태그 ‘h1’의 내용(“Example Domain”)을 추출하는 코드이다. 그림 1과 그림 2의 구\u001b[0m\n\u001b[1;37m            ^\u001b[0m\n\u001b[1;31mSyntaxError\u001b[0m\u001b[1;31m:\u001b[0m invalid character '‘' (U+2018)\n"
     ]
    }
   ],
   "source": [
    "#19\n",
    "Requests와 BeautifulSoup을 이용하여 주어진 웹페이지의 URL에서 HTML을 가져와\n",
    "서 특정 태그 ‘h1’의 내용(“Example Domain”)을 추출하는 코드이다. 그림 1과 그림 2의 구\n",
    "조를 분석하고 빈칸의 코드를 완성하시오.\n",
    "(①   import requests )\n",
    "(②   from bs4 import BeautifulSoup )\n",
    "# 타겟 웹페이지의 URL\n",
    "url = 'https://example.com'\n",
    "# 해당 URL에서 HTML 가져오기\n",
    "response = requests.get(url)\n",
    "# BeautifulSoup을 사용하여 HTML 파싱\n",
    "soup = BeautifulSoup(response.text, 'html.parser')\n",
    "# 'h1' 태그를 추출\n",
    "target_tag = soup.find('h1')\n",
    "# ‘h1’ 태그의 내용을 추출\n",
    "target_content = target_tag.text if target_tag else '태그를 찾을 수 없음.'\n",
    "# 결과 출력\n",
    "print(target.content)"
   ]
  },
  {
   "cell_type": "code",
   "execution_count": 45,
   "id": "89ab30eb-45a7-49f7-a84f-e9c63920f689",
   "metadata": {},
   "outputs": [
    {
     "name": "stdout",
     "output_type": "stream",
     "text": [
      "특정 a 요소의 개수: 1\n",
      "특정 a 요소의 속성 href 값 가져오기: https://www.iana.org/domains/example\n"
     ]
    }
   ],
   "source": [
    "#19-2\n",
    "from selenium import webdriver\n",
    "from selenium.webdriver.common.by import By\n",
    "driver = webdriver.Chrome()\n",
    "driver.get(\"https://example.com\")\n",
    "elements_with_a = driver.find_elements(By.CSS_SELECTOR, \"a\")\n",
    "print(\"특정 a 요소의 개수:\", len(elements_with_a))\n",
    "print(\"특정 a 요소의 속성 href 값 가져오기:\",\n",
    "elements_with_a[0].get_attribute(\"href\"))\n",
    "driver.quit()"
   ]
  },
  {
   "cell_type": "code",
   "execution_count": null,
   "id": "07eb48ec-e407-4286-9d31-ceb547ecd5d9",
   "metadata": {},
   "outputs": [],
   "source": [
    "# 현재 작업 디렉터리를 확인하기:\n",
    "# pwd\n",
    "# 현재 디렉터리의 모든 파일과 디렉터리를 표시하기: ls\n",
    "# 현재 작업 디렉터리가 \"/C/Users/USER\"일 때 \"Desktop\"으로 변경하기:cd /C/Users/USER/Desktop\n",
    "# BeautifulSoup 라이브러리를 설치하기: pip install beautifulsoup4\n",
    "# \"file.txt\" 파일의 내용을 출력하기: cat file.txt\n",
    "# 이름이 \"myenv\"인 가상환경을 생성하기: python -m venv myenv\n",
    "# \"myenv\"인 가상환경을 활성화하기: source myenv/Scripts/activate\n",
    "# 가상환경을 비활성화하기: deactivate\n",
    "# 변경 사항을 \"initial Add\"으로 깃 커밋하기: git commit -m \"initial Add\""
   ]
  },
  {
   "cell_type": "code",
   "execution_count": null,
   "id": "7419add2-35b9-4dc8-9810-a656fc6edb53",
   "metadata": {},
   "outputs": [],
   "source": [
    "#22\n",
    "import pandas as pd\n",
    "data = {\n",
    " '이름': ['철수', '영희', '민수', '지영'],\n",
    " '나이': [25, 30, 22, 28],\n",
    " '성별': ['남자', '여자', '남자', '여자']\n",
    "}\n",
    "df = pd.DataFrame(data)\n",
    "\n",
    "df.to_csv(\"example/data.csv\", index=False)  # index=False를 지정하여 인덱스를 저장하지 않음\n",
    "\n",
    "# JSON 파일로 저장\n",
    "df.to_json(\"json/data\")# orient=\"records\"를 지정하여 레코드 방식으로 저장"
   ]
  },
  {
   "cell_type": "code",
   "execution_count": 56,
   "id": "70c89b9f-0502-4625-b1f1-9b199273b1e6",
   "metadata": {},
   "outputs": [
    {
     "name": "stdout",
     "output_type": "stream",
     "text": [
      "    A   B\n",
      "0  A0  B0\n",
      "1  A1  B1\n",
      "2  A2  B2\n",
      "3  A3  B3\n",
      "4  A4  B4\n",
      "5  A5  B5\n"
     ]
    }
   ],
   "source": [
    "#23\n",
    "import pandas as pd\n",
    "data1 = {'A': ['A0', 'A1', 'A2'], 'B': ['B0', 'B1', 'B2']}\n",
    "df1 = pd.DataFrame(data1)\n",
    "data2 = {'A': ['A3', 'A4', 'A5'], 'B': ['B3', 'B4', 'B5']}\n",
    "df2 = pd.DataFrame(data2)\n",
    "df4 = pd.concat([df1, df2], ignore_index=True)\n",
    "print(df4)\n"
   ]
  },
  {
   "cell_type": "code",
   "execution_count": 57,
   "id": "cb0b3741-fbd4-4731-a81b-0e6e589ec02d",
   "metadata": {},
   "outputs": [
    {
     "name": "stdout",
     "output_type": "stream",
     "text": [
      "  key   A   B\n",
      "0  K0  A0  B0\n",
      "1  K1  A1  B1\n",
      "2  K2  A2  B2\n"
     ]
    }
   ],
   "source": [
    "#24\n",
    "import pandas as pd\n",
    "# 두 개의 데이터프레임 생성\n",
    "left = pd.DataFrame({'key': ['K0', 'K1', 'K2'],\n",
    " 'A': ['A0', 'A1', 'A2']})\n",
    "right = pd.DataFrame({'key': ['K0', 'K1', 'K2'],\n",
    " 'B': ['B0', 'B1', 'B2']})\n",
    "\n",
    "result = pd.merge(left, right, on='key', how='inner')\n",
    "\n",
    "# 결과 출력\n",
    "print(result)"
   ]
  },
  {
   "cell_type": "code",
   "execution_count": 67,
   "id": "88243afc-82c1-4dde-9b50-6c77819e2c96",
   "metadata": {},
   "outputs": [
    {
     "name": "stdout",
     "output_type": "stream",
     "text": [
      "   학생  성적\n",
      "0  철수  80\n",
      "1  영희  75\n",
      "2  민수  90\n",
      "0  지영  85\n"
     ]
    }
   ],
   "source": [
    "#25\n",
    "import pandas as pd\n",
    "\n",
    "# 기존의 학생들의 성적을 담은 데이터프레임 생성\n",
    "data = {'학생': ['철수', '영희', '민수'],\n",
    "        '성적': [80, 75, 90]}\n",
    "df = pd.DataFrame(data)\n",
    "\n",
    "# 추가적인 학생의 성적을 담은 시리즈 생성\n",
    "new_student_scores = pd.Series([85], index=['지영'], name='성적')  # 인덱스를 '지영'으로 설정\n",
    "\n",
    "# 시리즈를 데이터프레임으로 변환하여 병합\n",
    "new_student_df = new_student_scores.to_frame().reset_index()\n",
    "new_student_df.columns = ['학생', '성적']  # 열 이름 변경\n",
    "\n",
    "# 데이터프레임과 새로운 데이터프레임을 수직으로 결합하여 새로운 데이터프레임 생성\n",
    "result = pd.concat([df, new_student_df], axis=0)\n",
    "\n",
    "# 결과 출력\n",
    "print(result)"
   ]
  },
  {
   "cell_type": "code",
   "execution_count": 71,
   "id": "329ddbac-3b71-449b-b0af-09198b97b468",
   "metadata": {},
   "outputs": [
    {
     "name": "stdout",
     "output_type": "stream",
     "text": [
      "   학생  성적_x  성적_y\n",
      "0  민수  92.0   NaN\n",
      "1  영희  88.0   NaN\n",
      "2  지영   NaN  85.0\n",
      "3  철수  75.0   NaN\n"
     ]
    }
   ],
   "source": [
    "\n",
    "import pandas as pd\n",
    "\n",
    "# 기존의 학생들의 성적을 담은 데이터프레임 생성\n",
    "data = {'학생': ['철수', '영희', '민수'],\n",
    "        '성적': [75, 88, 92]}\n",
    "df = pd.DataFrame(data)\n",
    "\n",
    "# 추가적인 학생의 성적을 담은 시리즈 생성\n",
    "new_student_scores = pd.Series([85], index=['지영'], name='성적')  # 인덱스를 '지영'으로 설정\n",
    "\n",
    "# 시리즈를 데이터프레임으로 변환하여 병합\n",
    "new_student_df = new_student_scores.to_frame().reset_index()\n",
    "new_student_df.columns = ['학생', '성적']  # 열 이름 변경\n",
    "\n",
    "# 데이터프레임을 merge를 사용하여 병합\n",
    "result = pd.merge(df, new_student_df, on='학생', how='outer')\n",
    "# 결과 출력\n",
    "print(result)"
   ]
  },
  {
   "cell_type": "code",
   "execution_count": 72,
   "id": "88ecdad7-00d1-4e6b-8bea-52905eede7e0",
   "metadata": {},
   "outputs": [
    {
     "name": "stdout",
     "output_type": "stream",
     "text": [
      "   A  B  C   D   E\n",
      "X  1  4  7  10  13\n",
      "Y  2  5  8  11  14\n",
      "Z  3  6  9  12  15\n"
     ]
    }
   ],
   "source": [
    "#26\n",
    "import pandas as pd\n",
    "\n",
    "# 두 개의 데이터프레임 생성\n",
    "df1 = pd.DataFrame({'A': [1, 2, 3], 'B': [4, 5, 6]}, index=['X', 'Y', 'Z'])\n",
    "df2 = pd.DataFrame({'C': [7, 8, 9], 'D': [10, 11, 12]}, index=['X', 'Y', 'Z'])\n",
    "\n",
    "# 시리즈 생성\n",
    "s = pd.Series([13, 14, 15], index=['X', 'Y', 'Z'], name='E')\n",
    "\n",
    "# 데이터프레임을 병합하여 새로운 데이터프레임 생성\n",
    "result = pd.merge(df1, df2, left_index=True, right_index=True)\n",
    "result = result.merge(s.to_frame(), left_index=True, right_index=True)\n",
    "\n",
    "# 결과 출력\n",
    "print(result)"
   ]
  },
  {
   "cell_type": "code",
   "execution_count": 75,
   "id": "f87d0a12-5c06-448f-b3b1-08d78bfe3b10",
   "metadata": {},
   "outputs": [
    {
     "name": "stdout",
     "output_type": "stream",
     "text": [
      "     A    B    C     D     X     Y     Z\n",
      "X  1.0  4.0  7.0  10.0   NaN   NaN   NaN\n",
      "Y  2.0  5.0  8.0  11.0   NaN   NaN   NaN\n",
      "Z  3.0  6.0  9.0  12.0   NaN   NaN   NaN\n",
      "E  NaN  NaN  NaN   NaN  13.0  14.0  15.0\n"
     ]
    }
   ],
   "source": [
    "#27\n",
    "import pandas as pd\n",
    "\n",
    "# 두 개의 데이터프레임 생성\n",
    "df1 = pd.DataFrame({'A': [1, 2, 3], 'B': [4, 5, 6]}, index=['X', 'Y', 'Z'])\n",
    "df2 = pd.DataFrame({'C': [7, 8, 9], 'D': [10, 11, 12]}, index=['X', 'Y', 'Z'])\n",
    "\n",
    "# 시리즈 생성\n",
    "s = pd.Series([13, 14, 15], index=['X', 'Y', 'Z'], name='E')\n",
    "\n",
    "# 데이터프레임과 시리즈의 인덱스를 일치시킴\n",
    "s.index = df1.index\n",
    "\n",
    "# 데이터프레임을 수평으로 결합하여 새로운 데이터프레임 생성\n",
    "merged_df = pd.concat([df1, df2], axis=1)\n",
    "\n",
    "# 결과로 나온 데이터프레임과 시리즈를 수평으로 결합하여 새로운 데이터프레임 생성\n",
    "result = pd.concat([merged_df, s.to_frame().T], axis=1)\n",
    "\n",
    "# 결과 출력\n",
    "print(result)"
   ]
  },
  {
   "cell_type": "code",
   "execution_count": 76,
   "id": "3085d486-d479-4cc9-988e-659d0adfebc2",
   "metadata": {},
   "outputs": [
    {
     "name": "stdout",
     "output_type": "stream",
     "text": [
      "           국어         영어         수학          총점\n",
      "철수  85.000000  88.000000  75.000000  248.000000\n",
      "영희  90.000000  92.000000  85.000000  267.000000\n",
      "민수  88.000000  95.000000  90.000000  273.000000\n",
      "평균  87.666667  91.666667  83.333333  262.666667\n"
     ]
    }
   ],
   "source": [
    "#27\n",
    "import pandas as pd\n",
    "\n",
    "# 데이터프레임 생성\n",
    "data = {'국어': [85, 90, 88],\n",
    "        '영어': [88, 92, 95],\n",
    "        '수학': [75, 85, 90]}\n",
    "df = pd.DataFrame(data, index=['철수', '영희', '민수'])\n",
    "\n",
    "# (1) 각 학생의 성적 총점을 계산하여 '총점' 열을 추가\n",
    "df['총점'] = df.apply(lambda row: row.sum(), axis=1)\n",
    "\n",
    "# (2) 각 과목의 평균 점수를 계산하여 '평균' 행을 추가\n",
    "df.loc['평균'] = df.apply(lambda col: col.mean())\n",
    "\n",
    "# 결과 출력\n",
    "print(df)"
   ]
  },
  {
   "cell_type": "code",
   "execution_count": null,
   "id": "f5663a67-9c1b-41ac-b715-0e440210858a",
   "metadata": {},
   "outputs": [],
   "source": []
  },
  {
   "cell_type": "code",
   "execution_count": null,
   "id": "14bd51d4-bdab-4c89-9ee0-2f3832b13188",
   "metadata": {},
   "outputs": [],
   "source": []
  },
  {
   "cell_type": "code",
   "execution_count": null,
   "id": "a7c973f8-17d2-432e-bd4a-3d3c938476c9",
   "metadata": {},
   "outputs": [],
   "source": []
  },
  {
   "cell_type": "code",
   "execution_count": null,
   "id": "afd78a50-8680-4852-abaf-5023144c3df8",
   "metadata": {},
   "outputs": [],
   "source": []
  }
 ],
 "metadata": {
  "kernelspec": {
   "display_name": "Python 3 (ipykernel)",
   "language": "python",
   "name": "python3"
  },
  "language_info": {
   "codemirror_mode": {
    "name": "ipython",
    "version": 3
   },
   "file_extension": ".py",
   "mimetype": "text/x-python",
   "name": "python",
   "nbconvert_exporter": "python",
   "pygments_lexer": "ipython3",
   "version": "3.12.0"
  }
 },
 "nbformat": 4,
 "nbformat_minor": 5
}
